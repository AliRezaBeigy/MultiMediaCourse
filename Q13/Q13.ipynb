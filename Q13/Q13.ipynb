{
 "cells": [
  {
   "cell_type": "markdown",
   "source": [
    "# Question 5"
   ],
   "metadata": {}
  },
  {
   "cell_type": "markdown",
   "source": [
    "## Description"
   ],
   "metadata": {}
  },
  {
   "cell_type": "markdown",
   "source": [
    "Read kodim05 image, divid image into blocks with 8x8 sizes then apply dct transform after that apply quantization matrix and then reproduce image then compare the result with original image."
   ],
   "metadata": {}
  },
  {
   "cell_type": "markdown",
   "source": [
    "## Import required dependencies"
   ],
   "metadata": {}
  },
  {
   "cell_type": "markdown",
   "source": [
    "- Import cv2 for read and map the color channels\r\n",
    "- Import numpy to work with arrays\r\n",
    "- Import matplotlib to show image for each step"
   ],
   "metadata": {}
  },
  {
   "cell_type": "code",
   "execution_count": 5,
   "source": [
    "import cv2\r\n",
    "import numpy as np\r\n",
    "import matplotlib.pyplot as plt"
   ],
   "outputs": [],
   "metadata": {}
  },
  {
   "cell_type": "markdown",
   "source": [
    "## Read Image"
   ],
   "metadata": {}
  },
  {
   "cell_type": "code",
   "execution_count": 6,
   "source": [
    "image = cv2.imread(\"../images/kodim05.png\")\r\n",
    "\r\n",
    "# Convert BGR order to RGB and convert to float between 0 and 1\r\n",
    "image = cv2.cvtColor(image, cv2.COLOR_BGR2RGB).astype(np.float32) / 255.0\r\n",
    "\r\n",
    "image_height, image_width, channels = image.shape"
   ],
   "outputs": [],
   "metadata": {}
  },
  {
   "cell_type": "markdown",
   "source": [
    "## Define function to compare images with mse and psnr"
   ],
   "metadata": {}
  },
  {
   "cell_type": "code",
   "execution_count": 7,
   "source": [
    "def mse(image_1, image_2):\r\n",
    "    return ((image_1 - image_2) ** 2).sum() / \\\r\n",
    "        (image_1.shape[0] * image_1.shape[1])\r\n",
    "\r\n",
    "\r\n",
    "def psnr(image_1, image_2):\r\n",
    "    mse_value = mse(image_1, image_2)\r\n",
    "    return 10 * np.log((255**2) / mse_value)\r\n",
    "\r\n",
    "\r\n",
    "def compare(image_1, image_2):\r\n",
    "    mse_value = mse(image_1, image_2)\r\n",
    "    psnr_value = psnr(image_1, image_2)\r\n",
    "    print(\"MSE: {:.2f} PSNR: {:.2f}\".format(mse_value, psnr_value))"
   ],
   "outputs": [],
   "metadata": {}
  },
  {
   "cell_type": "markdown",
   "source": [
    "## Process image"
   ],
   "metadata": {}
  },
  {
   "cell_type": "code",
   "execution_count": 9,
   "source": [
    "for alpha in range(1, 5):\r\n",
    "\r\n",
    "    block_size = 8\r\n",
    "\r\n",
    "    image_blocks = np.empty(\r\n",
    "        (int(image_height / block_size), int(image_width / block_size)),\r\n",
    "        dtype=object,\r\n",
    "    )\r\n",
    "    block_height, block_width = image_blocks.shape\r\n",
    "\r\n",
    "    ## divide image to 8x8 size\r\n",
    "    for i in range(block_width):\r\n",
    "        for j in range(block_height):\r\n",
    "            image_blocks[j, i] = image[\r\n",
    "                j * block_size : (j + 1) * block_size,\r\n",
    "                i * block_size : (i + 1) * block_size,\r\n",
    "                :,\r\n",
    "            ]\r\n",
    "\r\n",
    "    ## apply dtc transform\r\n",
    "    for i in range(block_width):\r\n",
    "        for j in range(block_height):\r\n",
    "            block = image_blocks[j, i]\r\n",
    "            image_blocks[j, i] = [cv2.dct(block[:, :, x]) for x in range(channels)]\r\n",
    "\r\n",
    "    ## generate images\r\n",
    "    # mask = np.zeros((block_size, block_size))\r\n",
    "    # mask[0 : int(block_size / 4), :] = 1\r\n",
    "    # mask[:, 0 : int(block_size / 4)] = 1\r\n",
    "\r\n",
    "    ## apply mask to image\r\n",
    "    # for i in range(block_width):\r\n",
    "    #     for j in range(block_height):\r\n",
    "    #         for c in range(channels):\r\n",
    "    #             image_blocks[j, i][c] = mask * image_blocks[j, i][c]\r\n",
    "\r\n",
    "    quantization_matrix = np.array([\r\n",
    "        [16, 11, 10, 16, 24, 40, 51, 61],\r\n",
    "        [12, 12, 14, 19, 26, 58, 60, 55],\r\n",
    "        [14, 13, 16, 24, 40, 57, 69, 56],\r\n",
    "        [14, 17, 22, 29, 51, 87, 80, 62],\r\n",
    "        [18, 22, 37, 56, 68, 109, 103, 77],\r\n",
    "        [24, 35, 55, 64, 81, 104, 113, 92],\r\n",
    "        [49, 64, 78, 87, 103, 121, 120, 101],\r\n",
    "        [72, 92, 95, 98, 112, 100, 103, 99],\r\n",
    "    ])\r\n",
    "\r\n",
    "    ## apply quantization matrix\r\n",
    "    for i in range(block_width):\r\n",
    "        for j in range(block_height):\r\n",
    "            for c in range(channels):\r\n",
    "                image_blocks[j, i][c] = image_blocks[j, i][c] / (quantization_matrix * alpha)\r\n",
    "\r\n",
    "    for i in range(block_width):\r\n",
    "        for j in range(block_height):\r\n",
    "            for c in range(channels):\r\n",
    "                image_blocks[j, i][c] = image_blocks[j, i][c] * (quantization_matrix * alpha)\r\n",
    "\r\n",
    "    ## apply reverse dtc transform\r\n",
    "    for i in range(block_width):\r\n",
    "        for j in range(block_height):\r\n",
    "            image_blocks[j, i] = cv2.merge(\r\n",
    "                tuple([cv2.idct(image_blocks[j, i][x]) for x in range(channels)])\r\n",
    "            )\r\n",
    "\r\n",
    "    result = np.copy(image)\r\n",
    "\r\n",
    "    ## merge blocks into image\r\n",
    "    for i in range(block_width):\r\n",
    "        for j in range(block_height):\r\n",
    "            result[\r\n",
    "                j * block_size : (j + 1) * block_size,\r\n",
    "                i * block_size : (i + 1) * block_size,\r\n",
    "                :,\r\n",
    "            ] = image_blocks[j, i]\r\n",
    "\r\n",
    "    print('Alpha: {}'.format(alpha))\r\n",
    "    compare(image, result)\r\n",
    "    print()"
   ],
   "outputs": [
    {
     "output_type": "stream",
     "name": "stdout",
     "text": [
      "Alpha: 1\n",
      "MSE: 0.00 PSNR: 448.52\n",
      "\n",
      "Alpha: 11\n",
      "MSE: 0.00 PSNR: 448.52\n",
      "\n",
      "Alpha: 21\n",
      "MSE: 0.00 PSNR: 448.52\n",
      "\n",
      "Alpha: 31\n",
      "MSE: 0.00 PSNR: 448.52\n",
      "\n",
      "Alpha: 41\n",
      "MSE: 0.00 PSNR: 448.52\n",
      "\n",
      "Alpha: 51\n",
      "MSE: 0.00 PSNR: 448.52\n",
      "\n",
      "Alpha: 61\n",
      "MSE: 0.00 PSNR: 448.52\n",
      "\n",
      "Alpha: 71\n",
      "MSE: 0.00 PSNR: 448.52\n",
      "\n",
      "Alpha: 81\n",
      "MSE: 0.00 PSNR: 448.52\n",
      "\n",
      "Alpha: 91\n",
      "MSE: 0.00 PSNR: 448.52\n",
      "\n"
     ]
    }
   ],
   "metadata": {}
  },
  {
   "cell_type": "markdown",
   "source": [
    "As result, according to the results, images are very exact, just a bit different because the PSNR does not have infinite value"
   ],
   "metadata": {}
  }
 ],
 "metadata": {
  "kernelspec": {
   "display_name": "Python 3 (ipykernel)",
   "language": "python",
   "name": "python3"
  },
  "language_info": {
   "codemirror_mode": {
    "name": "ipython",
    "version": 3
   },
   "file_extension": ".py",
   "mimetype": "text/x-python",
   "name": "python",
   "nbconvert_exporter": "python",
   "pygments_lexer": "ipython3",
   "version": "3.9.5"
  }
 },
 "nbformat": 4,
 "nbformat_minor": 4
}